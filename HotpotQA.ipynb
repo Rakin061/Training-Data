{
  "cells": [
    {
      "cell_type": "markdown",
      "metadata": {
        "id": "view-in-github",
        "colab_type": "text"
      },
      "source": [
        "<a href=\"https://colab.research.google.com/github/Rakin061/Training-Data/blob/main/HotpotQA.ipynb\" target=\"_parent\"><img src=\"https://colab.research.google.com/assets/colab-badge.svg\" alt=\"Open In Colab\"/></a>"
      ]
    },
    {
      "cell_type": "code",
      "execution_count": 26,
      "metadata": {
        "colab": {
          "base_uri": "https://localhost:8080/"
        },
        "id": "_ljweOtg_4_g",
        "outputId": "bd61afa7-8096-4e6e-96f4-614199de3ecd"
      },
      "outputs": [
        {
          "output_type": "stream",
          "name": "stdout",
          "text": [
            "Cloning into 'hotpot'...\n",
            "remote: Enumerating objects: 42, done.\u001b[K\n",
            "remote: Total 42 (delta 0), reused 0 (delta 0), pack-reused 42\u001b[K\n",
            "Receiving objects: 100% (42/42), 36.33 KiB | 4.54 MiB/s, done.\n",
            "Resolving deltas: 100% (16/16), done.\n"
          ]
        }
      ],
      "source": [
        "!git clone https://github.com/hotpotqa/hotpot.git >> output.txt"
      ]
    },
    {
      "cell_type": "code",
      "source": [
        "x=4\n"
      ],
      "metadata": {
        "id": "6024xOEeGwk5"
      },
      "execution_count": null,
      "outputs": []
    },
    {
      "cell_type": "code",
      "source": [
        "%%bash\n",
        "\n",
        "nvidia-smi | tee -a output.txt"
      ],
      "metadata": {
        "colab": {
          "base_uri": "https://localhost:8080/"
        },
        "id": "HtopLQa9BDpk",
        "outputId": "d6ec17f9-2186-456e-b443-b8e010328e3e",
        "collapsed": true
      },
      "execution_count": 28,
      "outputs": [
        {
          "output_type": "stream",
          "name": "stdout",
          "text": [
            "Mon Aug 14 07:39:14 2023       \n",
            "+-----------------------------------------------------------------------------+\n",
            "| NVIDIA-SMI 525.105.17   Driver Version: 525.105.17   CUDA Version: 12.0     |\n",
            "|-------------------------------+----------------------+----------------------+\n",
            "| GPU  Name        Persistence-M| Bus-Id        Disp.A | Volatile Uncorr. ECC |\n",
            "| Fan  Temp  Perf  Pwr:Usage/Cap|         Memory-Usage | GPU-Util  Compute M. |\n",
            "|                               |                      |               MIG M. |\n",
            "|===============================+======================+======================|\n",
            "|   0  Tesla T4            Off  | 00000000:00:04.0 Off |                    0 |\n",
            "| N/A   38C    P8     9W /  70W |      0MiB / 15360MiB |      0%      Default |\n",
            "|                               |                      |                  N/A |\n",
            "+-------------------------------+----------------------+----------------------+\n",
            "                                                                               \n",
            "+-----------------------------------------------------------------------------+\n",
            "| Processes:                                                                  |\n",
            "|  GPU   GI   CI        PID   Type   Process name                  GPU Memory |\n",
            "|        ID   ID                                                   Usage      |\n",
            "|=============================================================================|\n",
            "|  No running processes found                                                 |\n",
            "+-----------------------------------------------------------------------------+\n"
          ]
        }
      ]
    },
    {
      "cell_type": "code",
      "source": [
        "from google.colab import drive\n",
        "drive.mount('/content/drive')"
      ],
      "metadata": {
        "id": "57rBStinnGIB"
      },
      "execution_count": null,
      "outputs": []
    },
    {
      "cell_type": "code",
      "execution_count": 19,
      "metadata": {
        "colab": {
          "base_uri": "https://localhost:8080/"
        },
        "id": "GRq8xyyjJVIa",
        "outputId": "0e2a60b8-1fea-48e2-e57f-6dabffeaa0ff"
      },
      "outputs": [
        {
          "output_type": "stream",
          "name": "stdout",
          "text": [
            "/content/hotpot\n"
          ]
        }
      ],
      "source": [
        "cd /content/hotpot/"
      ]
    },
    {
      "cell_type": "code",
      "execution_count": 29,
      "metadata": {
        "colab": {
          "base_uri": "https://localhost:8080/"
        },
        "id": "F8TlmfmCCQ3t",
        "outputId": "ef5c254c-6950-436f-f7d2-5732496a93f3"
      },
      "outputs": [
        {
          "output_type": "stream",
          "name": "stdout",
          "text": [
            "total 108\n",
            "-rw-r--r-- 1 root root  3104 Aug 14 07:39 output.txt\n",
            "drwxr-xr-x 3 root root  4096 Aug 14 07:38 hotpot\n",
            "-rw-r--r-- 1 root root 13516 Aug 14 07:25 prepro.py\n",
            "-rw-r--r-- 1 root root 12115 Aug 14 07:25 run.py\n",
            "-rw-r--r-- 1 root root 10245 Aug 14 07:25 sp_model.py\n",
            "-rw-r--r-- 1 root root 11201 Aug 14 07:25 util.py\n",
            "-rwxr-xr-x 1 root root   496 Aug 14 07:25 download.sh\n",
            "-rw-r--r-- 1 root root  4257 Aug 14 07:25 hotpot_evaluate_v1.py\n",
            "-rw-r--r-- 1 root root 11338 Aug 14 07:25 LICENSE.txt\n",
            "-rw-r--r-- 1 root root  3631 Aug 14 07:25 main.py\n",
            "-rw-r--r-- 1 root root 10225 Aug 14 07:25 model.py\n",
            "-rw-r--r-- 1 root root  6839 Aug 14 07:25 README.md\n"
          ]
        }
      ],
      "source": [
        "%%bash\n",
        "\n",
        "ls -lt |& tee -a output.txt"
      ]
    },
    {
      "cell_type": "code",
      "execution_count": null,
      "metadata": {
        "id": "4mOjvfQcCXja"
      },
      "outputs": [],
      "source": [
        "!./download.sh"
      ]
    },
    {
      "cell_type": "code",
      "execution_count": null,
      "metadata": {
        "id": "V8-qUJhYxh5R"
      },
      "outputs": [],
      "source": [
        "import json"
      ]
    },
    {
      "cell_type": "code",
      "execution_count": null,
      "metadata": {
        "id": "DIKwFAyWyMYU"
      },
      "outputs": [],
      "source": [
        "with open(\"hotpot_train_v1.1.json\",\"r\") as file_data:\n",
        "  data=json.load(file_data)"
      ]
    },
    {
      "cell_type": "code",
      "execution_count": null,
      "metadata": {
        "id": "G9_Ii38T8DAn"
      },
      "outputs": [],
      "source": [
        "#type(data[0])\n",
        "#data[0]"
      ]
    },
    {
      "cell_type": "code",
      "execution_count": null,
      "metadata": {
        "id": "hQUjQ9obSk3l"
      },
      "outputs": [],
      "source": [
        "json_data = []\n",
        "for i in range(10):\n",
        "    json_data.append(data[i])\n",
        "\n",
        "json_object = json.dumps(json_data, indent=4)\n",
        "\n",
        "with open(\"sample_train.json\", \"w\") as outfile:\n",
        "    outfile.write(json_object)"
      ]
    },
    {
      "cell_type": "code",
      "execution_count": null,
      "metadata": {
        "id": "fXFtPJ3Zyjpj"
      },
      "outputs": [],
      "source": [
        "len(data)"
      ]
    },
    {
      "cell_type": "code",
      "execution_count": null,
      "metadata": {
        "id": "WQV_jf2o6r1F"
      },
      "outputs": [],
      "source": [
        "type(data[0])"
      ]
    },
    {
      "cell_type": "code",
      "execution_count": null,
      "metadata": {
        "id": "x-oavvPpKLe6"
      },
      "outputs": [],
      "source": [
        "with open(\"hotpot_dev_distractor_v1.json\",\"r\") as file_data:\n",
        "  data=json.load(file_data)"
      ]
    },
    {
      "cell_type": "code",
      "execution_count": null,
      "metadata": {
        "id": "az3MLgPqKUm7"
      },
      "outputs": [],
      "source": [
        "#data[0]"
      ]
    },
    {
      "cell_type": "code",
      "execution_count": null,
      "metadata": {
        "id": "R4_6V8x8KfdB"
      },
      "outputs": [],
      "source": [
        "json_data = []\n",
        "for i in range(10):\n",
        "    json_data.append(data[i])\n",
        "\n",
        "json_object = json.dumps(json_data, indent=4)\n",
        "\n",
        "with open(\"sample_dev_distractor.json\", \"w\") as outfile:\n",
        "    outfile.write(json_object)"
      ]
    },
    {
      "cell_type": "code",
      "execution_count": null,
      "metadata": {
        "id": "Uwc8DzhuKrZG"
      },
      "outputs": [],
      "source": [
        "with open(\"hotpot_dev_fullwiki_v1.json\",\"r\") as file_data:\n",
        "  data=json.load(file_data)"
      ]
    },
    {
      "cell_type": "code",
      "execution_count": null,
      "metadata": {
        "id": "wf7gFVQUKxDd"
      },
      "outputs": [],
      "source": [
        "#data[0]"
      ]
    },
    {
      "cell_type": "code",
      "execution_count": null,
      "metadata": {
        "id": "tGs0FWJvK1U0"
      },
      "outputs": [],
      "source": [
        "json_data = []\n",
        "for i in range(10):\n",
        "    json_data.append(data[i])\n",
        "\n",
        "json_object = json.dumps(json_data, indent=4)\n",
        "\n",
        "with open(\"sample_dev_fullwiki.json\", \"w\") as outfile:\n",
        "    outfile.write(json_object)"
      ]
    },
    {
      "cell_type": "code",
      "execution_count": null,
      "metadata": {
        "id": "NiGlKdt7TwHi"
      },
      "outputs": [],
      "source": [
        "!pip install ujson"
      ]
    },
    {
      "cell_type": "markdown",
      "source": [
        "# Preprocessing"
      ],
      "metadata": {
        "id": "hC4odYr2eexK"
      }
    },
    {
      "cell_type": "code",
      "execution_count": null,
      "metadata": {
        "id": "hwESUzEsTGPq"
      },
      "outputs": [],
      "source": [
        "!python main.py --mode prepro --data_file sample_train.json --para_limit 2250 --data_split train"
      ]
    },
    {
      "cell_type": "code",
      "execution_count": null,
      "metadata": {
        "id": "-MR2DSWqVvkH"
      },
      "outputs": [],
      "source": [
        "!python main.py --mode prepro --data_file sample_dev_distractor.json --para_limit 2250 --data_split dev"
      ]
    },
    {
      "cell_type": "code",
      "execution_count": null,
      "metadata": {
        "id": "5kF1IXE9ZDas"
      },
      "outputs": [],
      "source": [
        "!python main.py --mode prepro --data_file sample_dev_fullwiki.json --data_split dev --fullwiki --para_limit 2250"
      ]
    },
    {
      "cell_type": "markdown",
      "source": [
        "# Training Model"
      ],
      "metadata": {
        "id": "qzyrsUZSeZhh"
      }
    },
    {
      "cell_type": "code",
      "execution_count": null,
      "metadata": {
        "id": "gJZN4RhSvWVK"
      },
      "outputs": [],
      "source": [
        "!python main.py --mode train --para_limit 2250 --batch_size 24 --init_lr 0.1 --keep_prob 1.0 --sp_lambda 1.0"
      ]
    },
    {
      "cell_type": "markdown",
      "source": [
        "# Test"
      ],
      "metadata": {
        "id": "XEaVDhzxepFg"
      }
    },
    {
      "cell_type": "code",
      "execution_count": null,
      "metadata": {
        "id": "GChaQq6OIDHT"
      },
      "outputs": [],
      "source": [
        "!python main.py --mode test --data_split dev --para_limit 2250 --batch_size 24 --init_lr 0.1 --keep_prob 1.0 --sp_lambda 1.0 --save HOTPOT-20230322-053611 --prediction_file pred.json"
      ]
    },
    {
      "cell_type": "markdown",
      "source": [
        "# Evaluate"
      ],
      "metadata": {
        "id": "MH9ikx53erqe"
      }
    },
    {
      "cell_type": "code",
      "execution_count": null,
      "metadata": {
        "id": "ZrF2CaRYVo05"
      },
      "outputs": [],
      "source": [
        "!python hotpot_evaluate_v1.py pred.json hotpot_dev_distractor_v1.json"
      ]
    },
    {
      "cell_type": "code",
      "execution_count": null,
      "metadata": {
        "id": "vzz04e0nBMPo"
      },
      "outputs": [],
      "source": [
        "!pip list"
      ]
    },
    {
      "cell_type": "markdown",
      "source": [
        "# New Section"
      ],
      "metadata": {
        "id": "dC4ULEF1NKwb"
      }
    }
  ],
  "metadata": {
    "accelerator": "GPU",
    "colab": {
      "provenance": [],
      "gpuType": "T4",
      "authorship_tag": "ABX9TyPRYHH5Blem3LSorX77NXMy",
      "include_colab_link": true
    },
    "kernelspec": {
      "display_name": "Python 3",
      "name": "python3"
    },
    "language_info": {
      "name": "python"
    }
  },
  "nbformat": 4,
  "nbformat_minor": 0
}